{
 "cells": [
  {
   "cell_type": "markdown",
   "metadata": {},
   "source": [
    "# Example workflow of process sensitivity analiysis using 1D groundawter flow model "
   ]
  },
  {
   "cell_type": "markdown",
   "metadata": {},
   "source": [
    "This jupyter file applies both variance-based sensitivity analysis (VBSA) and mutil-model difference-based sensitivity analysis(MMDS) to a one-dimensional groundwater flow model revised after Dai et al. (2017). An unconfined aquifer with a length $L=10,000$ m is adjacent to two constant head boundaries and a uniform precipitation infiltrates to the top of the aquifer. The aquifer is under steady state condition and the groundwater discharge per unit width at the location $x_0 = 7,000$ m is our quantity of interest. The hydrological model is quite simple and the groundwater discharge per unit width can be analytically solved so it is computationally affordable for the Monte Carlo simulation. For more detials about the model settings, readers are reffered to Yang et al. (2020).\n",
    "\n",
    "Prepared by Jing Yang and Ming Ye at Florida State University, 2020. Mail to: mye@fsu.edu.\n",
    "\n"
   ]
  },
  {
   "cell_type": "markdown",
   "metadata": {},
   "source": [
    "## 1. Load basic modules"
   ]
  },
  {
   "cell_type": "code",
   "execution_count": 14,
   "metadata": {},
   "outputs": [],
   "source": [
    "import numpy as np\n",
    "import numba as nb"
   ]
  },
  {
   "cell_type": "markdown",
   "metadata": {},
   "source": [
    "## 2. Define the multiple system model configuration"
   ]
  },
  {
   "cell_type": "markdown",
   "metadata": {},
   "source": [
    "### 2.1 Define the process models"
   ]
  },
  {
   "cell_type": "markdown",
   "metadata": {},
   "source": [
    "Two rainfall recharge models ($R_1$ and $R_2$) are used to simulate the recharge process that converts precipitation $[inch \\times yr^{-1}]$ to groundwater recharge $[m \\times d^{-1}]$, and they are:  \n",
    "\n",
    "$$R_1:w=a\\times(P-14)^{0.5}\\times25.4\\times0.001\\div365$$  \n",
    "\n",
    "$$R_2:w=b\\times(P-15.7)\\times25.4\\times0.001\\div365$$\n",
    "\n",
    "where a and b are scaling parameters which are assumed to follow the normal distribution, N(2.0, 0.4), and the uniform distribution, U(0.2, 0.5), respectively; P is the annual precipitation which is set to be a constant of 60 $[inch\\times yr^{-1}]$. "
   ]
  },
  {
   "cell_type": "code",
   "execution_count": 2,
   "metadata": {},
   "outputs": [],
   "source": [
    "# process model: rechrg_lin\n",
    "@nb.njit\n",
    "def rechrg_lin_func(P, a):\n",
    "    \"\"\"\n",
    "    Compute recharge[m/d] using recharge model R1 by Chaturvedi(1936)\n",
    "    \n",
    "    \"\"\"\n",
    "    return a * (P - 14)**0.5 * 25.4 * 0.001 / 365\n",
    "\n",
    "# process model: rechrg_power\n",
    "@nb.njit\n",
    "def rechrg_power_func(P, b):\n",
    "    \"\"\"\n",
    "    Compute recharge[m/d] using recharge model R2 by Krishna Rao (1970)\n",
    "    \n",
    "    \"\"\"\n",
    "    return b * (P - 15.7) * 25.4 * 0.001 / 365"
   ]
  },
  {
   "cell_type": "markdown",
   "metadata": {},
   "source": [
    "Hydraulic conductivity (K) $[m\\times d^{-1}]$ over the domain is parameterized by two geology process models, i.e., a single layer model(G1) and a double layer model(G2): \n",
    "\n",
    "$$G_1:K=K_1=K_2$$  \n",
    "\n",
    "$$G_2=\n",
    "\\begin{cases}\n",
    "K_1 & \\text{for x < 7000m}\\\\\n",
    "K_2 & \\text{for x >= 7000m}\n",
    "\\end{cases}$$"
   ]
  },
  {
   "cell_type": "markdown",
   "metadata": {},
   "source": [
    "In model $G_1$, the aquifer is assumed to be homogeneous and the hydraulic conductivity follows the lognormal distribution, LN(2.9, 0.5). Model $G_2$ is parametrized into two zones at the location of $x_0=7000$. The hydraulic conductivity $K_1$ of zone 1 (x<7000 m) and $K_2$ of zone 2 (x >= 7000 m) are assumed to follow the lognormal distributions, LN(2.6, 0.3) and LN(3.2, 0.3), respectively. "
   ]
  },
  {
   "cell_type": "code",
   "execution_count": 3,
   "metadata": {},
   "outputs": [],
   "source": [
    "# process model: geol_single\n",
    "@nb.njit\n",
    "def geol_single_func(K):\n",
    "    \"\"\"\n",
    "    Single layer geological model\n",
    "    \n",
    "    \"\"\"\n",
    "    return K, K\n",
    "\n",
    "# process model: geol_double\n",
    "@nb.njit\n",
    "def geol_double_func(K1, K2):\n",
    "    \"\"\"\n",
    "    Double layer geological model\n",
    "    \n",
    "    \"\"\"\n",
    "    return K1, K2"
   ]
  },
  {
   "cell_type": "markdown",
   "metadata": {},
   "source": [
    "Assuming there is no gauge station at the river thus the river stage $h_2$ is unknown. An empirical rating curve function is used to covert the discharge into river stage:\n",
    "$$h_2=0.3\\times Q^{0.6}+289$$  \n",
    "where $Q$ denotes the river discharge $[m^3 \\times s^{-1}]$ which can be calculated form the snowmelt runoff process at the upstream catchment: \n",
    "$$Q=C_{sn}\\times M\\times SVC \\times A \\times \\frac{0.001}{86400}$$\n",
    "where $C_{sn}$ denotes the runoff coefficient expressing the losses as a ratio; M is the snow melt rate $[mm \\times d^{-1}]$; SVC is the ration of snow-covered area to the total area; A is the area of the upper catchment $[m^2]$; 0.001/86400 is the conversion factor from $[m\\times d^{-1}]$ to $[m^3 \\times s^{-1}]$. Fixed values $C_{sn} = 0.8$, $SVC = 0.7$ and $A = 2000$ $km^2$ are used to characterize the upstream catchment conditions. Thus, the only unknown factor is the snowmelt rate, M. Two different snowmelt functions, i.e., degree-day method and restricted degree-day radiation balance approach (Hock 2003, Kustas et al. 1994), are used to evaluate the daily snow melt depth [mm]:\n",
    "$$M_1:M=f_1\\times(T_a-T_m)$$\n",
    "$$M_2:M=f_2\\times(T_a-T_m)+r\\times R_n$$"
   ]
  },
  {
   "cell_type": "markdown",
   "metadata": {},
   "source": [
    "where $f_1$ and $f_2$ are snowmelt factors $[mm \\times$℃$^{-1}\\times d^{-1}]$, which are assumed to follow norm distributions, N (3.5, 0.75) and U[2.5, 0.3], respectively. ${T_a}$ [℃] is the average temperature for a given day and $T_m$ [℃] is the temperature threshold when snow melt occurs which is typically set to be 0. The second equation consider the effects of surface radiation budget, $R_n [W \\times m^{-2}]$, using a conversion factor r for converting energy flux density to snowmelt depth. The $r [mm \\times d^{-1}\\times (W\\times m^{-2})^{-1}]$ is assumed to follow normal distribution, N(0.3, 0.05). $T_a$ and $R_n$ are set to be 7 ℃ and 80 $W \\times m^{-2}$ respectively in this case. "
   ]
  },
  {
   "cell_type": "code",
   "execution_count": 4,
   "metadata": {},
   "outputs": [],
   "source": [
    "# process model: snomlt_degree\n",
    "@nb.njit\n",
    "def snomlt_degree_func(Ta, Tm, Csn, SVC, A, z0, f1):\n",
    "    \"\"\"\n",
    "    Compute river stage h2 [m] using degree-day method\n",
    " \n",
    "    \"\"\"\n",
    "    M = f1 * (Ta - Tm)\n",
    "    Q = Csn * M * SVC * A * 0.001 / 86400\n",
    "    \n",
    "    return 0.3 * Q**0.6 + z0\n",
    "\n",
    "# process model: snomlt_restrcd\n",
    "@nb.njit\n",
    "def snomlt_restrcd_func(Ta, Tm, Csn, Rn, SVC, A, z0, f2, r):\n",
    "    \"\"\"\n",
    "    Compute river stage h2 [m] using degree-day method\n",
    " \n",
    "    \"\"\"\n",
    "    M = f2 * (Ta - Tm) + r * Rn\n",
    "    Q = Csn * M * SVC * A * 0.001 / 86400\n",
    "    \n",
    "    return 0.3 * Q**0.6 + z0"
   ]
  },
  {
   "cell_type": "markdown",
   "metadata": {},
   "source": [
    "### 2.2. Define the system model function"
   ]
  },
  {
   "cell_type": "markdown",
   "metadata": {},
   "source": [
    "The analytical solution for the groundwater discharge per unit width at a given location x, $q(x)$, can be obtained from:\n",
    "\n",
    "$$q(x)=K_1\\frac{h_1^2-h_2^2}{2(x_0-\\lambda x_0+\\lambda L)}-\\frac{1}{2}w\\frac{x_0^2-\\lambda x_0^2+\\lambda L^2}{x_0-\\lambda x_0+\\lambda L} + wx$$\n",
    "\n",
    "where $\\lambda=K_1/K_2$."
   ]
  },
  {
   "cell_type": "code",
   "execution_count": 5,
   "metadata": {},
   "outputs": [],
   "source": [
    "# system model\n",
    "@nb.njit\n",
    "def dschrg_func(x0, L, h1, w, K1, K2, h2):\n",
    "    \"\"\"\n",
    "    Compute discharge per unit [m2/d] at x=x0 using anaytical solution\n",
    "    \n",
    "    \"\"\"\n",
    "    lamda = K1 / K2\n",
    "    \n",
    "    return K1 * (h1**2 - h2**2) / (2 * (x0 - lamda * x0 + lamda * L)) - 1/2 * w * (x0**2 - lamda * x0**2 + lamda * L**2) / (x0 - lamda * x0 + lamda * L) + w * x0\n"
   ]
  },
  {
   "cell_type": "markdown",
   "metadata": {},
   "source": [
    "### 2.3 Define the model frames"
   ]
  },
  {
   "cell_type": "code",
   "execution_count": 16,
   "metadata": {},
   "outputs": [],
   "source": [
    "# Import sammpy\n",
    "import sammpy as sm\n",
    "\n",
    "# System model class\n",
    "model = sm.model()\n",
    "model.name = 'gwmodel'\n",
    "model.frames = {'names'  : ['rechrg', 'geol', 'snomlt'],\n",
    "                'options': [['rechrg_lin', 'rechrg_power'], \n",
    "                            ['geol_single', 'geol_double'],\n",
    "                            ['snomlt_degree', 'snomlt_restrcd']],\n",
    "                'weights': [[0.5, 0.5], \n",
    "                            [0.5, 0.5],\n",
    "                            [0.5, 0.5]]}\n",
    "# Constant variables used in the simulations\n",
    "model.env = {'x0'    : 7000,\n",
    "             'L'     : 10000,\n",
    "             'h1'    : 300,\n",
    "             'P'     : 60,\n",
    "             'Ta'    : 7,\n",
    "             'Tm'    : 0,\n",
    "             'Csn'   : 0.8,\n",
    "             'SVC'   : 0.7,\n",
    "             'A'     : 2000 * 1e6,\n",
    "             'z0'    : 289,\n",
    "             'Rn'    : 80}\n",
    "\n",
    "# Random variabs used in the simulation\n",
    "model.pars = {'names': ['a', 'b', 'K', 'K1', 'K2', 'f1', 'f2', 'r'],\n",
    "              'bounds':[[2.0, 0.4], [0.2, 0.5], [2.9, 0.5], [2.6, 0.3], [3.2, 0.3], [3.5, 0.75], [2.5, 0.3], [0.3, 0.05]],\n",
    "              'dists': ['norm', 'unif', 'lognorm', 'lognorm', 'lognorm', 'norm', 'norm', 'norm']}\n",
    "\n",
    "# system model functions \n",
    "model.func = dschrg_func"
   ]
  },
  {
   "cell_type": "markdown",
   "metadata": {},
   "source": [
    "## 3. Generate ouputs with parametric and process model uncertainty"
   ]
  },
  {
   "cell_type": "markdown",
   "metadata": {},
   "source": [
    "### 3.2 Generate the parameter realizations "
   ]
  },
  {
   "cell_type": "markdown",
   "metadata": {},
   "source": [
    "The samples are genertaed using SALib with Saltelli's sampling sampling scheme. Saltelli's scheme extends the Sobol sequence in a way to reduce the error rates in the resulting sensitivity index calculations. For more detials, readers are refered to https://salib.readthedocs.io/en/latest/index.html#."
   ]
  },
  {
   "cell_type": "code",
   "execution_count": 7,
   "metadata": {},
   "outputs": [],
   "source": [
    "N = 500       # Number of sample realizations\n",
    "param_values = model.sample(nobs=N, method='saltelli', seed=933090936)"
   ]
  },
  {
   "cell_type": "markdown",
   "metadata": {},
   "source": [
    "The distribution of the generated parameters can be dispalyed using sammpy.plotting."
   ]
  },
  {
   "cell_type": "code",
   "execution_count": 8,
   "metadata": {},
   "outputs": [
    {
     "data": {
      "image/png": "[encoded data removed]",
      "text/plain": [
       "<Figure size 1440x504 with 8 Axes>"
      ]
     },
     "metadata": {},
     "output_type": "display_data"
    }
   ],
   "source": [
    "from sammpy.plotting import hist\n",
    "hist.plot(model, param_values)"
   ]
  },
  {
   "cell_type": "markdown",
   "metadata": {},
   "source": [
    "### 3.2 Generate the outputs"
   ]
  },
  {
   "cell_type": "markdown",
   "metadata": {},
   "source": [
    "The outputs are generated using considering both parametric and process model uncertainty. The outputs are stored in an array of whihc the size is 2 x N x 2 x N x 2 x N in this case, corresponding to the two recharge process models and their N parameter realizaitons, the two geology process models and their N parameter realizations, and the two snowmelt process models and their N parameter realizations, respectively. The advantage of storing data in this way is we can compute all the varianced-based sensitivy indices including the first-order, total-effect, second-order and higher-order ones of all processes using this array. The disadvantage is storing such a array requirs a large memory size since it is high demensional.  "
   ]
  },
  {
   "cell_type": "code",
   "execution_count": 9,
   "metadata": {},
   "outputs": [],
   "source": [
    "# Retrive the costant parameter values\n",
    "Ma = len(model.frames['options'][0])          # Number of alterantive models for recharge process\n",
    "Mb = len(model.frames['options'][1])          # Number of alterantive models for geloogy process\n",
    "Mc = len(model.frames['options'][2])          # Number of alterantive models for snow melt process\n",
    "\n",
    "x0  = model.env['x0'] \n",
    "L   = model.env['L'] \n",
    "h1  = model.env['h1']\n",
    "P   = model.env['P']\n",
    "Ta  = model.env['Ta']\n",
    "Tm  = model.env['Tm']\n",
    "Csn = model.env['Csn']\n",
    "SVC = model.env['SVC']\n",
    "A   = model.env['A']\n",
    "z0  = model.env['z0']\n",
    "Rn  = model.env['Rn']\n",
    "\n",
    "# Calculate model outputs using numba to accelerate \n",
    "@nb.njit(parallel=True, fastmath=True)\n",
    "def cmpt_Dscs():\n",
    "    # Initilize an array\n",
    "    Y = np.zeros((Ma, N, Mb, N, Mc, N))\n",
    "    \n",
    "    for i in range(Ma):\n",
    "        for j in nb.prange(N):\n",
    "            if i == 0:\n",
    "                a = param_values[j, 0]\n",
    "                w = rechrg_lin_func(P, a)\n",
    "            else:\n",
    "                b = param_values[j, 1]\n",
    "                w = rechrg_power_func(P, b)\n",
    "                \n",
    "            for k in range (Mb):\n",
    "                for l in nb.prange(N):\n",
    "                    if k == 0:\n",
    "                        K = param_values[l, 2]\n",
    "                        K1, K2 = geol_single_func(K)\n",
    "                    else:\n",
    "                        K1 = param_values[l, 3]\n",
    "                        K2 = param_values[l, 4]\n",
    "                        K1, K2 = geol_double_func(K1, K2)\n",
    "                        \n",
    "                    for m in range(Mc):\n",
    "                        for n in nb.prange(N):\n",
    "                            if m == 0:\n",
    "                                f1 = param_values[n, 5]\n",
    "                                h2 = snomlt_degree_func(Ta, Tm, Csn, SVC, A, z0, f1)\n",
    "                            else:\n",
    "                                f2 = param_values[n, 6]\n",
    "                                r =  param_values[n, 7]\n",
    "                                h2 = snomlt_restrcd_func(Ta, Tm, Csn, Rn, SVC, A, z0, f2, r)\n",
    "\n",
    "                            Y[i, j, k, l, m, n] =  dschrg_func(x0, L, h1, w, K1, K2, h2)\n",
    "                            \n",
    "    return Y\n",
    "                \n",
    "Y = cmpt_Dscs()"
   ]
  },
  {
   "cell_type": "markdown",
   "metadata": {},
   "source": [
    "## 4. Process sensitivity analysis"
   ]
  },
  {
   "cell_type": "markdown",
   "metadata": {},
   "source": [
    "The sensitivity of the parameters under individual system model can be performed using many sensitivity analysis tools such as SALib thus it is not shown here. Below, we use the model outputs generated in the last step to evaluate the process sensitivity by using both variance-based method and the difference-based method."
   ]
  },
  {
   "cell_type": "markdown",
   "metadata": {},
   "source": [
    "### 4.1 Sensitivity analysis using variance-based method"
   ]
  },
  {
   "cell_type": "markdown",
   "metadata": {},
   "source": [
    "By decomposing the variance, the first-order process sensitivity index is defined by Dai et al. (2017) as\n",
    "\n",
    "$$PS_K=\\frac{V_{M_K}(E_{M_{\\sim K}}[\\Delta|M_K])}{V(\\Delta)}$$\n",
    "\n",
    "The total effect process sensitivty index is defined by Yang et al. (2020) as\n",
    "\n",
    "$$PS_{TK}=\\frac{E_{M_{\\sim K}}(V_{M_{K}}[\\Delta|M_{\\sim K}])}{V(\\Delta)}$$\n",
    "\n",
    "The sensitivy indices including ones of both first-order and total effect can be computed using the function of vbsa.analysis. The function takes the model object and output values as input parameters and return a dictionary with keys \"PSK\" and \"PSTK\",  corresponding to the first-order and total effect process sensitivty index, respectively. Each entry is a array of size of the number of process. The \"print_to_console\" is used to control the dispaly of the computing information."
   ]
  },
  {
   "cell_type": "code",
   "execution_count": 10,
   "metadata": {},
   "outputs": [
    {
     "name": "stdout",
     "output_type": "stream",
     "text": [
      "Runing VBSA first-order process sensitivy analysis...\n",
      "Runing VBSA total-effect process sensitivy analysis...\n",
      "Process \t PSK \t PSTK\n",
      "rechrg \t 0.1456 \t 0.1490\n",
      "geol \t 0.0699 \t 0.2133\n",
      "snomlt \t 0.6411 \t 0.7811\n"
     ]
    }
   ],
   "source": [
    "from sammpy.analyze import vbsa\n",
    "Ret_vbsa = vbsa.analyze(model, Y, print_to_console=True)"
   ]
  },
  {
   "cell_type": "markdown",
   "metadata": {},
   "source": [
    "The first-order and total effect process sensitivity indices of the three processes is 14.56%, 6.60%, and 64.11%, 14.90%, 20.33% and 78.11%, respectivly. The results can be visualized using the bar plots."
   ]
  },
  {
   "cell_type": "code",
   "execution_count": 11,
   "metadata": {},
   "outputs": [
    {
     "data": {
      "image/png": "[encoded data removed]",
      "text/plain": [
       "<Figure size 720x288 with 2 Axes>"
      ]
     },
     "metadata": {},
     "output_type": "display_data"
    }
   ],
   "source": [
    "from sammpy.plotting import bar\n",
    "bar.plot(model, Ret_vbsa)"
   ]
  },
  {
   "cell_type": "markdown",
   "metadata": {},
   "source": [
    "### 4.2 Sensitivity analysis using difference-based method"
   ]
  },
  {
   "cell_type": "markdown",
   "metadata": {},
   "source": [
    "The purpose of the sensitivity analysis using difference-based method is very similar to the total effect-process senistivity analysis,that is to screen the non-influential processes to simplify the model.Inspired by the Morris elementary effect, the mean and variance of the absolute output difference caused by the variation (uncertainty) of a process K when the other process are fixed can be used to measure the sensitivity of this process:\n",
    "\n",
    "$$E(d\\Delta|K)=E_{\\sim K}E_{P_K}(d\\Delta|\\sim K)=E_{M_{\\sim K}}E_{P_{M_K}}(d\\Delta|M_{\\sim K})$$\n",
    " \n",
    " $$V(d\\Delta|K)=E_{\\sim K}V_{P_K}(d\\Delta|\\sim K)+ V_{\\sim K}E_{P_K}(d\\Delta|\\sim K)=E_{M_{\\sim K}}V_{P_{M_K}}(d\\Delta|M_{\\sim K}) + V_{M_{\\sim K}}E_{P_{M_K}}(d\\Delta|M_{\\sim K})$$\n",
    " \n",
    "                                                                       "
   ]
  },
  {
   "cell_type": "code",
   "execution_count": 12,
   "metadata": {},
   "outputs": [
    {
     "name": "stdout",
     "output_type": "stream",
     "text": [
      "Runing MMDS difference-based process sensitivy analysis...\n",
      "Process \t mean \t variance\n",
      "rechrg \t 0.6197 \t 0.2201\n",
      "geol \t 0.6630 \t 0.4252\n",
      "snomlt \t 1.3031 \t 1.4685\n"
     ]
    }
   ],
   "source": [
    "from sammpy.analyze import mmds\n",
    "\n",
    "Ret_mmds = mmds.analyze(model, Y, print_to_console=True)"
   ]
  },
  {
   "cell_type": "markdown",
   "metadata": {},
   "source": [
    "The mean and variance of the output difference of the three processes is 0.6234, 0.6554, and 1.3097, 0.2252, 0.4218, and 1.5059 respectivly.The results can be visualized using the scatter plot."
   ]
  },
  {
   "cell_type": "code",
   "execution_count": 13,
   "metadata": {},
   "outputs": [
    {
     "data": {
      "image/png": "[encoded data removed]",
      "text/plain": [
       "<Figure size 360x360 with 1 Axes>"
      ]
     },
     "metadata": {},
     "output_type": "display_data"
    }
   ],
   "source": [
    "from sammpy.plotting import dotty\n",
    "dotty.plot(model, Ret_mmds)"
   ]
  },
  {
   "cell_type": "code",
   "execution_count": null,
   "metadata": {},
   "outputs": [],
   "source": []
  }
 ],
 "metadata": {
  "kernelspec": {
   "display_name": "Python 3",
   "language": "python",
   "name": "python3"
  },
  "language_info": {
   "codemirror_mode": {
    "name": "ipython",
    "version": 3
   },
   "file_extension": ".py",
   "mimetype": "text/x-python",
   "name": "python",
   "nbconvert_exporter": "python",
   "pygments_lexer": "ipython3",
   "version": "3.7.3"
  }
 },
 "nbformat": 4,
 "nbformat_minor": 4
}
