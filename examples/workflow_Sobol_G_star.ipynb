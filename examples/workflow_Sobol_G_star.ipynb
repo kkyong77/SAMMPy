{
 "cells": [
  {
   "cell_type": "markdown",
   "metadata": {},
   "source": [
    "# Example workflow of process sensitivity analiysis using Sobol-G* function"
   ]
  },
  {
   "cell_type": "markdown",
   "metadata": {},
   "source": [
    "This jupyter file applies both variance-based sensitivity analysis (VBSA) and mutil-model difference-based sensitivity analysis(MMDS) to a mathematical Sobol-G* function (Saltelli et al. 2010) with three processes.\n",
    "\n",
    "Prepared by Jing Yang and Ming Ye at Florida State University, 2020. Mail to: mye@fsu.edu.\n",
    "\n",
    "The Sobol-G* function is defined as:\n",
    "\n",
    "$$G^*(X_1,...,X_k;a_1,...a_k;\\delta_1,...,\\delta_k;\\alpha_1,...,\\alpha_k)=\\prod_{i=1}^k g^*_i$$\n",
    "\n",
    "$$g^*_i=\\frac{(1+\\alpha_i)\\times |2(X_i+\\delta_i-I[X_i+\\delta_i])-1|^{\\alpha_i}+a_i}{1+a_i}$$\n",
    "\n",
    "where $X_i$ are input parameters, all uniformly distributed in [0, 1], $a_i \\in R^+$  is traditional Sobol-G function parameter; $\\delta_i \\in [0, 1]$  and $\\alpha_i$  are shift and curvature parameters,  respectively; $I[X_i+\\delta_i]$ is the integer part of $X_i+\\delta_i$ (Saltelli et al. 2010). The two parameters $\\alpha_i$ and $a_i$ together determine the degree of the influence of a parameter.The smaller the two parameters, the higher total parameter sensitivity index and thus the less influential of the parameter. \n",
    "\n",
    "Each element in the products is treated as one process and the system model output is the product of the outputs from the processes. The shift parameter $\\delta_i$ is set to be zero and only three processes, $g^*_1$, $g^*_2$, and $g^*_3$ are considered.  Each process is interpreted by two equally weighted alternative process models. The curvature parameters are $\\alpha_i^1=1$  and $\\alpha_i^2=2$  where the subscript i denote the i-th (i=1, 2, and 3) process and the superscript 1 and 2 denotes the first and second alternative process model, respectively. The other parameters used are $a_1^1=1.5$, $a_1^2=1.2$, $a_2^1=4.2$, $a_2^2=1.8$, $a_3^1=6.5$, and $a_3^2=2.3$ . Note the two alternative process models use the same parameter $X_i$.Details about the configuration of this model are reffered to Yang et al. (2020). \n",
    "\n",
    "The analytical process sensitivity measures are listed in the fllowing tabel:\n",
    "\n",
    "\n",
    "|  Variance-based first-order and total effect process sensitivty indices (%)   | $g_1^*$  | $g_2^*$ | $g_3^*$|\n",
    "|  --------  | --------  |  --------  | --------  |\n",
    "| $PS_K$  | 49.85 | 26.08| 18.01|\n",
    "| $PS_{TK}$  | 54.79 | 30.07| 21.23|\n",
    "\n",
    "\n",
    "|  Mutli-model difference-based mean and varaince of output difference   | $g_1^*$  | $g_2^*$ | $g_3^*$|\n",
    "|  --------  | --------  |  --------  | --------  |\n",
    "| Mean  | 37.28 | 26.38| 21.75|\n",
    "| Variance  | 10.13 | 6.23| 4.58|"
   ]
  },
  {
   "cell_type": "markdown",
   "metadata": {},
   "source": [
    "## 1. Load basic modules"
   ]
  },
  {
   "cell_type": "code",
   "execution_count": 1,
   "metadata": {},
   "outputs": [],
   "source": [
    "import numpy as np\n",
    "import numba as nb"
   ]
  },
  {
   "cell_type": "markdown",
   "metadata": {},
   "source": [
    "## 2. Define the multiple system model configuration"
   ]
  },
  {
   "cell_type": "markdown",
   "metadata": {},
   "source": [
    "### 2.1 Define the process models"
   ]
  },
  {
   "cell_type": "markdown",
   "metadata": {},
   "source": [
    "Since all the process models use a similar mathematical expression except that the paramters  𝑎  and  𝛼  are different, there is no need to define the process model functions for each process model. We can directly change the parameter values in the system model function."
   ]
  },
  {
   "cell_type": "code",
   "execution_count": 2,
   "metadata": {},
   "outputs": [],
   "source": [
    "alpha = np.array([[1,  2], [1, 2], [1, 2]])\n",
    "a = np.array([[1.5, 1.2], [4.2, 1.8], [6.5, 2.3]])"
   ]
  },
  {
   "cell_type": "markdown",
   "metadata": {},
   "source": [
    "### 2.2 Define the system model function"
   ]
  },
  {
   "cell_type": "code",
   "execution_count": 3,
   "metadata": {},
   "outputs": [],
   "source": [
    "@nb.njit\n",
    "def evaluate(values, alpha, a):\n",
    "    \"\"\"Sobol G*-function.\n",
    "\n",
    "    .. [1] Saltelli, A., Annoni, P., Azzini, I., Campolongo, F., Ratto, M., \n",
    "           Tarantola, S., 2010. Variance based sensitivity analysis of model \n",
    "           output. Design and estimator for the total sensitivity index. \n",
    "           Computer Physics Communications 181, 259–270. \n",
    "           https://doi.org/10.1016/j.cpc.2009.09.018\n",
    "\n",
    "    Parameters\n",
    "    ----------\n",
    "    values : 1D numpy.ndarray\n",
    "        input variables\n",
    "    alpha : 1D numpy.ndarray\n",
    "        parameter values\n",
    "    a : 1D numpy.ndarray\n",
    "        parameter values\n",
    "\n",
    "    Returns\n",
    "    -------\n",
    "    Y : Result of G*-function\n",
    "    \"\"\"\n",
    "    \n",
    "    ltz = values < 0\n",
    "    gto = values > 1\n",
    "\n",
    "    if ltz.any() == True:\n",
    "        raise ValueError(\"Sobol G function called with values less than zero\")\n",
    "    elif gto.any() == True:\n",
    "        raise ValueError(\"Sobol G function called with values greater than one\")\n",
    "        \n",
    "    gi = ((1 + alpha) * np.power(np.abs(2 * values - 1), alpha) + a) / (1 + a)\n",
    "\n",
    "    return np.prod(gi)"
   ]
  },
  {
   "cell_type": "markdown",
   "metadata": {},
   "source": [
    "### 2.3 Define the model frames"
   ]
  },
  {
   "cell_type": "code",
   "execution_count": 4,
   "metadata": {},
   "outputs": [],
   "source": [
    "# Import sammpy\n",
    "import sammpy as sm\n",
    "\n",
    "# System model class\n",
    "model = sm.model()\n",
    "model.name = 'sobol_G_star'\n",
    "model.frames = {'names'  : ['g1_star', 'g2_star', 'g3_star'],\n",
    "                'options': [['g1_star_1', 'g1_star_2'], \n",
    "                            ['g2_star_1', 'g2_star_2'],\n",
    "                            ['g3_star_1', 'g3_star_2']],\n",
    "                'weights': [[0.5, 0.5], \n",
    "                            [0.5, 0.5],\n",
    "                            [0.5, 0.5]]}\n",
    "\n",
    "# Constant variables used in the simulations\n",
    "model.env = {'delta': [0, 0, 0]}\n",
    "             \n",
    "# Random variabs used in the simulation\n",
    "model.pars = {'names': ['X1', 'X2', 'X3'],\n",
    "              'bounds':[[0.1, 1.0], [0.1, 1.0], [0.1, 1.0]],\n",
    "              'dists': ['unif', 'unif', 'unif']}\n",
    "\n",
    "# system model functions \n",
    "model.func = evaluate"
   ]
  },
  {
   "cell_type": "markdown",
   "metadata": {},
   "source": [
    "## 3. Generate ouputs with parametric and process model uncertainty"
   ]
  },
  {
   "cell_type": "markdown",
   "metadata": {},
   "source": [
    "### 3.1 Generate the parameter realizations "
   ]
  },
  {
   "cell_type": "markdown",
   "metadata": {},
   "source": [
    "The samples are genertaed using SALib with Saltelli's sampling sampling scheme. Saltelli's scheme extends the Sobol sequence in a way to reduce the error rates in the resulting sensitivity index calculations. For more detials, readers are refered to https://salib.readthedocs.io/en/latest/index.html#. The generated parameter values can be visualized using histograms."
   ]
  },
  {
   "cell_type": "code",
   "execution_count": 5,
   "metadata": {},
   "outputs": [],
   "source": [
    "N = 500       # Number of sample realizations\n",
    "param_values = model.sample(nobs=N, method='saltelli', seed=933090936)"
   ]
  },
  {
   "cell_type": "markdown",
   "metadata": {},
   "source": [
    "The distribution of the generated parameters can be dispalyed using sammpy.plotting."
   ]
  },
  {
   "cell_type": "code",
   "execution_count": 6,
   "metadata": {},
   "outputs": [
    {
     "data": {
      "image/png": "[encoded data removed]",
      "text/plain": [
       "<Figure size 720x504 with 3 Axes>"
      ]
     },
     "metadata": {
      "needs_background": "light"
     },
     "output_type": "display_data"
    }
   ],
   "source": [
    "from sammpy.plotting import hist\n",
    "hist.plot(model, param_values)"
   ]
  },
  {
   "cell_type": "markdown",
   "metadata": {},
   "source": [
    "### 3.2 Generate the outputs"
   ]
  },
  {
   "cell_type": "markdown",
   "metadata": {},
   "source": [
    "The outputs are generated using considering both parametric and process model uncertainty. The outputs are stored in an array of whihc the size is 2 x N x 2 x N x 2 x N in this case, corresponding to the two $g_1^*$ process models and their N parameter realizaitons, the two $g_2^*$ process models and their N parameter realizations, and the two $g_3^*$ process models and their N parameter realizations, respectively. The advantage of storing data in this way is we can compute all the varianced-based sensitivy indices including the first-order, total-effect, second-order and higher-order ones of all processes using this array. The disadvantage is storing such a array requirs a large memory size since it is high demensional.  "
   ]
  },
  {
   "cell_type": "code",
   "execution_count": 7,
   "metadata": {},
   "outputs": [],
   "source": [
    "# The number of the process models for each of the three processes\n",
    "Ma, Mb, Mc = 2, 2, 2               \n",
    "\n",
    "# Compute the model outputs\n",
    "@nb.njit(parallel=True)\n",
    "def cmpt_Y():\n",
    "    # Initilize an array\n",
    "    Y = np.zeros((Ma, N, Mb, N, Mc, N))\n",
    "\n",
    "    for i in range(Ma):\n",
    "        for j in nb.prange(N):\n",
    "            for k in range(Mb):\n",
    "                for l in nb.prange(N):\n",
    "                    for m in range(Mc):\n",
    "                        for n in nb.prange(N):\n",
    "                            values = np.array([param_values[j, 0], param_values[l, 1], param_values[n, 2]])\n",
    "                            Y[i, j, k, l, m, n] = evaluate(values, np.array([alpha[0, i], alpha[1, k], alpha[2, m]]), np.array([a[0, i], a[1, k], a[2, m]]))\n",
    "    return Y\n",
    "Y = cmpt_Y()"
   ]
  },
  {
   "cell_type": "markdown",
   "metadata": {},
   "source": [
    "## 4 Process sensitivity analysis"
   ]
  },
  {
   "cell_type": "markdown",
   "metadata": {},
   "source": [
    "The sensitivity of the parameters under individual system model can be performed using many sensitivity analysis tools such as SALib thus it is not shown here. Below, we use the model outputs generated in the last step to evaluate the process sensitivity by using both variance-based method and the difference-based method."
   ]
  },
  {
   "cell_type": "markdown",
   "metadata": {},
   "source": [
    "### 4.1 Sensitivity analysis using variance-based method"
   ]
  },
  {
   "cell_type": "markdown",
   "metadata": {},
   "source": [
    "By decomposing the variance, the first-order process sensitivity index is defined by Dai et al. (2017) as\n",
    "\n",
    "$$PS_K=\\frac{V_{M_K}(E_{M_{\\sim K}}[\\Delta|M_K])}{V(\\Delta)}$$\n",
    "\n",
    "The total effect process sensitivty index is defined by Yang et al. (2020) as\n",
    "\n",
    "$$PS_{TK}=\\frac{E_{M_{\\sim K}}(V_{M_{K}}[\\Delta|M_{\\sim K}])}{V(\\Delta)}$$\n",
    "\n",
    "The sensitivy indices including ones of both first-order and total effect can be computed using the function of vbsa.analysis. The function takes the model object and output values as input parameters and return a dictionary with keys \"PSK\" and \"PSTK\",  corresponding to the first-order and total effect process sensitivty index, respectively. Each entry is a array of size of the number of process. The \"print_to_console\" is used to control the dispaly of the computing information."
   ]
  },
  {
   "cell_type": "code",
   "execution_count": 8,
   "metadata": {},
   "outputs": [
    {
     "name": "stdout",
     "output_type": "stream",
     "text": [
      "Runing VBSA first-order process sensitivy analysis...\n",
      "Runing VBSA total-effect process sensitivy analysis...\n",
      "Process \t PSK \t PSTK\n",
      "g1_star \t 0.5159 \t 0.5594\n",
      "g2_star \t 0.2574 \t 0.2923\n",
      "g3_star \t 0.1746 \t 0.2013\n"
     ]
    }
   ],
   "source": [
    "from sammpy.analyze import vbsa\n",
    "Ret_vbsa = vbsa.analyze(model, Y, print_to_console=True)"
   ]
  },
  {
   "cell_type": "markdown",
   "metadata": {},
   "source": [
    "The results can be displayed using the bar plots."
   ]
  },
  {
   "cell_type": "code",
   "execution_count": 9,
   "metadata": {},
   "outputs": [
    {
     "data": {
      "image/png": "[encoded data removed]",
      "text/plain": [
       "<Figure size 720x288 with 2 Axes>"
      ]
     },
     "metadata": {
      "needs_background": "light"
     },
     "output_type": "display_data"
    }
   ],
   "source": [
    "from sammpy.plotting import bar\n",
    "bar.plot(model, Ret_vbsa)"
   ]
  },
  {
   "cell_type": "markdown",
   "metadata": {},
   "source": [
    "### 4.2 Sensitivity analysis using difference-based method"
   ]
  },
  {
   "cell_type": "markdown",
   "metadata": {},
   "source": [
    "The purpose of the sensitivity analysis using difference-based method is very similar to the total effect-process senistivity analysis,that is to screen the non-influential processes to simplify the model.Inspired by the Morris elementary effect, the mean and variance of the absolute output difference caused by the variation (uncertainty) of a process K when the other process are fixed can be used to measure the sensitivity of this process:\n",
    "\n",
    "$$E(d\\Delta|K)=E_{\\sim K}E_{P_K}(d\\Delta|\\sim K)\\\\\n",
    " \\qquad\\qquad\\,\\,=E_{M_{\\sim K}}E_{P_{M_K}}(d\\Delta|M_{\\sim K})$$\n",
    " \n",
    "$$V(d\\Delta|K)=E_{\\sim K}V_{P_K}(d\\Delta|\\sim K)+ V_{\\sim K}E_{P_K}(d\\Delta|\\sim K)\\\\\n",
    " \\qquad\\qquad\\,\\,\\,\\,\\,\\,\\,\\,=E_{M_{\\sim K}}V_{P_{M_K}}(d\\Delta|M_{\\sim K}) + V_{M_{\\sim K}}E_{P_{M_K}}(d\\Delta|M_{\\sim K})$$\n",
    " \n",
    "                                                                       "
   ]
  },
  {
   "cell_type": "code",
   "execution_count": 10,
   "metadata": {},
   "outputs": [
    {
     "name": "stdout",
     "output_type": "stream",
     "text": [
      "Runing MMDS difference-based process sensitivy analysis...\n",
      "Process \t mean \t variance\n",
      "g1_star \t 0.3104 \t 0.0709\n",
      "g2_star \t 0.2152 \t 0.0411\n",
      "g3_star \t 0.1756 \t 0.0294\n"
     ]
    }
   ],
   "source": [
    "from sammpy.analyze import mmds\n",
    "Ret_mmds = mmds.analyze(model, Y, print_to_console=True)"
   ]
  },
  {
   "cell_type": "markdown",
   "metadata": {},
   "source": [
    "The results can be displayed using the scatter plots."
   ]
  },
  {
   "cell_type": "code",
   "execution_count": 11,
   "metadata": {},
   "outputs": [
    {
     "data": {
      "image/png": "[encoded data removed]",
      "text/plain": [
       "<Figure size 360x360 with 1 Axes>"
      ]
     },
     "metadata": {
      "needs_background": "light"
     },
     "output_type": "display_data"
    }
   ],
   "source": [
    "from sammpy.plotting import dotty\n",
    "dotty.plot(model, Ret_mmds)"
   ]
  }
 ],
 "metadata": {
  "kernelspec": {
   "display_name": "Python 3",
   "language": "python",
   "name": "python3"
  },
  "language_info": {
   "codemirror_mode": {
    "name": "ipython",
    "version": 3
   },
   "file_extension": ".py",
   "mimetype": "text/x-python",
   "name": "python",
   "nbconvert_exporter": "python",
   "pygments_lexer": "ipython3",
   "version": "3.7.3"
  }
 },
 "nbformat": 4,
 "nbformat_minor": 4
}
